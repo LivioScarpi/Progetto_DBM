{
 "cells": [
  {
   "cell_type": "markdown",
   "metadata": {},
   "source": [
    "# Task 6\n",
    "Scrivere un programma che , dato il nome del file contenente un’immagine query che potrebbe non essere presente nel database e un file di semantiche latenti, associ all’immagine un’etichetta di tipo (X) rispetto alla semantica latente considerata.\n",
    "\n",
    "# Task 7\n",
    "Scrivere un programma che , dato il nome del file contenente un’immagine query che potrebbe non essere presente nel database e un file di semantiche latenti, associ all’immagine un identificatore di soggetto(Y) rispetto alla semantica latente considerata.\n"
   ]
  },
  {
   "cell_type": "code",
   "execution_count": null,
   "metadata": {},
   "outputs": [],
   "source": []
  }
 ],
 "metadata": {
  "language_info": {
   "name": "python"
  },
  "orig_nbformat": 4
 },
 "nbformat": 4,
 "nbformat_minor": 2
}

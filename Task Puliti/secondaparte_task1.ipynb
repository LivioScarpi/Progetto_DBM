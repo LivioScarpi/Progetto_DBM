{
 "cells": [
  {
   "cell_type": "markdown",
   "metadata": {},
   "source": [
    "# Fase 2\n",
    "NOTA:\n",
    "- In questa fase, le immagini da inserire nel database saranno etichettate come image-X-Y- Z.png, dove\n",
    "    - X ∈ {cc, con, detail, emboss, jitter, neg, noise1, noise2, original, poster, rot, smooth, stipple} denota il tipo dell’immagine;\n",
    "    - 1≤Y≤40denota ilsubjectID,and\n",
    "    - 1 ≤ Z ≤ 10 denota l’ ID del campione dell’immagine.\n",
    "    \n",
    "\n",
    "- I task in questa fase riguardano i tre modelli di feature e le misure di distanza/similarita’ sviluppate nella precedente.\n",
    " \n",
    "- Potete usare le librerie esistenti per la decomposizione LDA.\n",
    "- Potete usare le librerie esistenti per l’estrazione di autovalori e autovettori."
   ]
  },
  {
   "cell_type": "markdown",
   "metadata": {},
   "source": [
    "# Task 1\n",
    "Implementare un programma che , dati (a) uno dei tre modelli di feature, (b) un valore per X specificato dall’utente, (c) un valore “k” specificato dall’utente, (d) una delle 3 tecniche di riduzione della dimensionalita’ (PCA, SVD, LDA) scelta dall’utente, restituisca le top-k semantiche latenti estratte utilizzando immagini del tipo specificato.\n",
    "Ciascuna semantica latente deve essere presentata sotto forma di sequenza di coppie soggetto-peso, ordinate in modo decrescente rispetto ai pesi.\n",
    "Salvate le semantiche latenti in un file di output opportunamente etichettato (ossia, con nome informativo).\n"
   ]
  },
  {
   "cell_type": "code",
   "execution_count": 19,
   "metadata": {},
   "outputs": [],
   "source": [
    "from ipynb.fs.full.task1_new import *\n",
    "import numpy as np\n",
    "from operator import itemgetter\n",
    "\n",
    "from PIL import Image\n",
    "from numpy import asarray\n",
    "from scipy.stats import skew\n",
    "\n",
    "# load and display an image with Matplotlib\n",
    "from matplotlib import image\n",
    "from matplotlib import pyplot\n",
    "import matplotlib.pyplot as plt"
   ]
  },
  {
   "cell_type": "code",
   "execution_count": 20,
   "metadata": {},
   "outputs": [],
   "source": [
    "# import OS module\n",
    "import os\n",
    "\n",
    "# Get the list of all files and directories\n",
    "path = \"./secondaparte/images/\"\n",
    "dir_list = os.listdir(path) # array di stringhe contenente i nomi dei file\n",
    " \n",
    "dir_list.sort()\n",
    "dir_list.remove('.DS_Store')"
   ]
  },
  {
   "cell_type": "code",
   "execution_count": 21,
   "metadata": {},
   "outputs": [],
   "source": [
    "# funzione usata per ottenre le top-k semantiche latenti.\n",
    "# parametri della funzione:\n",
    "    # modelName: nome del modello da usare (ColorMoments, LBP, HOG)\n",
    "    # X: il tipo dell'immagine\n",
    "    # k: numero delle semantiche da estrarre\n",
    "    # strategyName: nome della tecnica con cui su vuole effettuare la riduzione di dimensionalità (PCA, SVD, LDA)\n",
    "\n",
    "def ottieniKSemanticheLatenti(modelName, X, k, strategyName):\n",
    "    # apriamo l'immagine\n",
    "    imageName = './secondaparte/images/image-' + X + '-1-1.png'\n",
    "    image = Image.open(imageName)\n",
    "\n",
    "    # convertiamo l'immagine in un numpy array\n",
    "    data = asarray(image)\n",
    "    print(data)\n",
    "\n",
    "    plt.imshow(image, cmap =\"gray\")\n",
    "    plt.show()\n",
    "\n",
    "    match modelName:\n",
    "        case 'ColorMoments':\n",
    "            print(\"SONO IN COLOR MOMENTS\")\n",
    "            # salvataggio dei descrittori dei color moments\n",
    "            dictionaryOfColorMomentsDescriptors = {}\n",
    "\n",
    "            # for i in range(0, len(dir_list)):\n",
    "            colorMomentsOfImage = ottieniDescrittoreSecondaParte(imageName, 'ColorMoments')\n",
    "            dictionaryOfColorMomentsDescriptors[imageName] = colorMomentsOfImage\n",
    "\n",
    "            print(dictionaryOfColorMomentsDescriptors)\n",
    "             \n",
    "            return 1\n",
    "\n",
    "        case 'LBP':\n",
    "            return 2\n",
    "\n",
    "        case 'HOG':\n",
    "            return 3\n",
    "\n",
    "        case _:\n",
    "            return 4"
   ]
  },
  {
   "cell_type": "code",
   "execution_count": null,
   "metadata": {},
   "outputs": [],
   "source": [
    "ottieniKSemanticheLatenti('ColorMoments', 'cc', 'A', 'A')"
   ]
  }
 ],
 "metadata": {
  "interpreter": {
   "hash": "aee8b7b246df8f9039afb4144a1f6fd8d2ca17a180786b69acc140d282b71a49"
  },
  "kernelspec": {
   "display_name": "Python 3.10.4 64-bit",
   "language": "python",
   "name": "python3"
  },
  "language_info": {
   "codemirror_mode": {
    "name": "ipython",
    "version": 3
   },
   "file_extension": ".py",
   "mimetype": "text/x-python",
   "name": "python",
   "nbconvert_exporter": "python",
   "pygments_lexer": "ipython3",
   "version": "3.10.4"
  },
  "orig_nbformat": 4
 },
 "nbformat": 4,
 "nbformat_minor": 2
}

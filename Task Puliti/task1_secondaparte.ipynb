{
 "cells": [
  {
   "cell_type": "markdown",
   "metadata": {},
   "source": []
  },
  {
   "cell_type": "code",
   "execution_count": 3,
   "metadata": {},
   "outputs": [],
   "source": [
    "from ipynb.fs.full.functions_secondaparte import *\n",
    "import numpy as np\n",
    "from operator import itemgetter\n",
    "\n",
    "from PIL import Image\n",
    "from numpy import asarray\n",
    "from scipy.stats import skew\n",
    "\n",
    "# load and display an image with Matplotlib\n",
    "from matplotlib import image\n",
    "from matplotlib import pyplot\n",
    "import matplotlib.pyplot as plt\n",
    "import json"
   ]
  },
  {
   "cell_type": "markdown",
   "metadata": {},
   "source": [
    "# Fase 2\n",
    "NOTA:\n",
    "- In questa fase, le immagini da inserire nel database saranno etichettate come image-X-Y- Z.png, dove\n",
    "    - X ∈ {cc, con, detail, emboss, jitter, neg, noise1, noise2, original, poster, rot, smooth, stipple} denota il tipo dell’immagine;\n",
    "    - 1≤Y≤40denota ilsubjectID,and\n",
    "    - 1 ≤ Z ≤ 10 denota l’ ID del campione dell’immagine.\n",
    "    \n",
    "\n",
    "- I task in questa fase riguardano i tre modelli di feature e le misure di distanza/similarita’ sviluppate nella precedente.\n",
    " \n",
    "- Potete usare le librerie esistenti per la decomposizione LDA.\n",
    "- Potete usare le librerie esistenti per l’estrazione di autovalori e autovettori."
   ]
  },
  {
   "cell_type": "markdown",
   "metadata": {},
   "source": [
    "# Fase 2\n",
    "NOTA:\n",
    "- In questa fase, le immagini da inserire nel database saranno etichettate come image-X-Y- Z.png, dove\n",
    "    - X ∈ {cc, con, detail, emboss, jitter, neg, noise1, noise2, original, poster, rot, smooth, stipple} denota il tipo dell’immagine;\n",
    "    - 1≤Y≤40denota ilsubjectID,and\n",
    "    - 1 ≤ Z ≤ 10 denota l’ ID del campione dell’immagine.\n",
    "    \n",
    "\n",
    "- I task in questa fase riguardano i tre modelli di feature e le misure di distanza/similarita’ sviluppate nella precedente.\n",
    " \n",
    "- Potete usare le librerie esistenti per la decomposizione LDA.\n",
    "- Potete usare le librerie esistenti per l’estrazione di autovalori e autovettori."
   ]
  },
  {
   "cell_type": "markdown",
   "metadata": {},
   "source": [
    "# Task 1\n",
    "Implementare un programma che , dati (a) uno dei tre modelli di feature, (b) un valore per X specificato dall’utente, (c) un valore “k” specificato dall’utente, (d) una delle 3 tecniche di riduzione della dimensionalita’ (PCA, SVD, LDA) scelta dall’utente, restituisca le top-k semantiche latenti estratte utilizzando immagini del tipo specificato.\n",
    "\n",
    "> **Nota bene:** Ciascuna semantica latente deve essere presentata sotto forma di sequenza di coppie soggetto-peso, ordinate in modo decrescente rispetto ai pesi. Salvate le semantiche latenti in un file di output opportunamente etichettato (ossia, con nome informativo).\n",
    "\n",
    "> **DA SISTEMARE:** DOBBIAMO CALCOLARE TANTE SEMANTICHE LATENTI QUANTE SONO QUELLE DI PARTENZA E POI RESTITUIAMO LE TOP K\n",
    "\n",
    "\n",
    "# Task 2\n",
    "Implementare un programma che, dati (a) uno dei tre modelli di feature, (b) un valore per Y specificato dall’utente, (c) un valore “k” specificato dall’utente (d) ) una delle 3 tecniche di riduzione della dimensionalita’ (PCA, SVD, LDA) scelta dall’utente, restituisca le top-k semantiche latenti estratte utilizzando immagini del soggetto specificato.\n",
    "\n",
    "> **Nota bene:** Ciascuna semantica latente deve essere presentata sotto forma di sequenza di coppie tipo- peso, ordinate in modo decrescente rispetto ai pesi. Salvate le semantiche latenti in un file di output opportunamente etichettato (ossia, con nome informativo).\n",
    "\n",
    "> **DA SISTEMARE:** DOBBIAMO CALCOLARE TANTE SEMANTICHE LATENTI QUANTE SONO QUELLE DI PARTENZA E POI RESTITUIAMO LE TOP K\n",
    "\n"
   ]
  },
  {
   "cell_type": "markdown",
   "metadata": {},
   "source": [
    "## Implementazione PCA\n",
    "https://scikit-learn.org/stable/modules/generated/sklearn.decomposition.PCA.html"
   ]
  },
  {
   "cell_type": "code",
   "execution_count": 4,
   "metadata": {},
   "outputs": [
    {
     "name": "stdout",
     "output_type": "stream",
     "text": [
      "Numero di file su cui applichiamo i metodi:  399\n",
      "SONO IN LBP\n",
      "Lunghezza di un descrittore:  256\n",
      "Numero di oggetti:  399\n",
      "SONO IN PCA\n",
      "\n",
      "Numero righe matrice di covarianza:  256\n",
      "Numero colonne matrice di covarianza:  256\n",
      "La matrice di covarianza è quadrata?  True\n",
      "\n",
      "\n",
      "[[-1.39566288e-02 -1.64545231e-02  2.49075131e-03 ...  2.39221377e-06\n",
      "   8.50261681e-18 -7.36226762e-19]\n",
      " [ 5.96110673e-03 -2.49595020e-03  8.72789358e-03 ... -1.79836169e-06\n",
      "  -4.82660952e-18 -2.04569905e-18]\n",
      " [-2.53368333e-02 -1.03429176e-02  8.53319153e-03 ... -1.98221360e-06\n",
      "   3.68817773e-18 -4.10921955e-18]\n",
      " ...\n",
      " [ 8.56556736e-03 -1.26821603e-02 -4.59705996e-03 ... -1.17922946e-06\n",
      "  -5.43100172e-18 -1.74405224e-18]\n",
      " [ 5.15833575e-03 -2.29160222e-02 -6.15559222e-03 ... -1.03476683e-05\n",
      "   9.00169514e-18 -3.20290997e-18]\n",
      " [ 1.54142724e-02 -2.35188381e-02 -4.18150476e-03 ...  1.07524577e-05\n",
      "  -9.66265912e-18 -2.09297554e-18]]\n",
      "\n",
      "Numero righe matrice di converted_data:  399\n",
      "Numero colonne matrice di converted_data:  256\n"
     ]
    },
    {
     "data": {
      "text/plain": [
       "1"
      ]
     },
     "execution_count": 4,
     "metadata": {},
     "output_type": "execute_result"
    }
   ],
   "source": [
    "ottieniKSemanticheLatenti('LBP', 'cc', 30, 'PCA', 'X')"
   ]
  },
  {
   "cell_type": "code",
   "execution_count": 5,
   "metadata": {},
   "outputs": [
    {
     "name": "stdout",
     "output_type": "stream",
     "text": [
      "Numero di file su cui applichiamo i metodi:  108\n",
      "SONO IN LBP\n",
      "Lunghezza di un descrittore:  256\n",
      "Numero di oggetti:  108\n",
      "SONO IN PCA\n",
      "\n",
      "Numero righe matrice di covarianza:  256\n",
      "Numero colonne matrice di covarianza:  256\n",
      "La matrice di covarianza è quadrata?  True\n",
      "\n",
      "\n",
      "[[-1.48052059e-01 -2.49199518e-03  9.29458306e-02 ...  5.22433489e-20\n",
      "   4.46479977e-22  2.46358760e-17]\n",
      " [-1.25614721e-01 -2.32593198e-03  9.64986598e-02 ...  5.22433489e-20\n",
      "   4.46479977e-22  2.46358760e-17]\n",
      " [-1.47292035e-01  4.60943932e-03  9.63027024e-02 ...  5.22433489e-20\n",
      "   4.46479977e-22  2.46358760e-17]\n",
      " ...\n",
      " [ 3.85464667e-01  7.25733229e-03  2.27383158e-02 ...  5.22433489e-20\n",
      "   4.46479977e-22  2.46358760e-17]\n",
      " [ 3.91142815e-01  4.17065854e-03  1.35756316e-02 ...  5.22433489e-20\n",
      "   4.46479977e-22  2.46358760e-17]\n",
      " [ 3.93687615e-01  2.88669844e-03  1.37047765e-02 ...  5.22433489e-20\n",
      "   4.46479977e-22  2.46358760e-17]]\n",
      "\n",
      "Numero righe matrice di converted_data:  108\n",
      "Numero colonne matrice di converted_data:  108\n"
     ]
    },
    {
     "data": {
      "text/plain": [
       "1"
      ]
     },
     "execution_count": 5,
     "metadata": {},
     "output_type": "execute_result"
    }
   ],
   "source": [
    "ottieniKSemanticheLatenti('LBP', '1', 30, 'PCA', 'Y')"
   ]
  },
  {
   "cell_type": "markdown",
   "metadata": {},
   "source": [
    "## Implementazione SVD\n",
    "https://machinelearningmastery.com/singular-value-decomposition-for-machine-learning/"
   ]
  },
  {
   "cell_type": "code",
   "execution_count": 6,
   "metadata": {},
   "outputs": [
    {
     "name": "stdout",
     "output_type": "stream",
     "text": [
      "Numero di file su cui applichiamo i metodi:  399\n",
      "SONO IN COLOR MOMENTS\n",
      "Lunghezza di un descrittore:  192\n",
      "Numero di oggetti:  399\n",
      "SONO IN SVD\n"
     ]
    },
    {
     "name": "stderr",
     "output_type": "stream",
     "text": [
      "/Library/Frameworks/Python.framework/Versions/3.10/lib/python3.10/site-packages/sklearn/utils/extmath.py:368: FutureWarning: If 'random_state' is not supplied, the current default is to use 0 as a fixed seed. This will change to  None in version 1.2 leading to non-deterministic results that better reflect nature of the randomized_svd solver. If you want to silence this warning, set 'random_state' to an integer seed or to None explicitly depending if you want your code to be deterministic or not.\n",
      "  warnings.warn(\n"
     ]
    },
    {
     "name": "stdout",
     "output_type": "stream",
     "text": [
      "\n",
      "Numero righe di U:  399\n",
      "\n",
      "Numero colonne di U:  192\n",
      "\n",
      "Numero righe di S:  192\n",
      "\n",
      "Numero colonne di S:  192\n",
      "\n",
      "Numero righe di VT:  192\n",
      "\n",
      "Numero colonne di VT:  192\n",
      "\n",
      "Left Singular Vectors:\n",
      "[[ 0.05110873 -0.03262629  0.06801898 ...  0.09277528  0.06002658\n",
      "  -0.02973467]\n",
      " [ 0.05094688 -0.00782124 -0.04062928 ...  0.00905532 -0.0394479\n",
      "  -0.02407805]\n",
      " [ 0.05105606 -0.03643099  0.03945403 ... -0.01772579 -0.01501485\n",
      "   0.01351653]\n",
      " ...\n",
      " [ 0.05017496 -0.02257768 -0.04640452 ...  0.01162497 -0.039152\n",
      "   0.00320716]\n",
      " [ 0.04999384 -0.01653893  0.00151852 ...  0.02605043  0.02508238\n",
      "  -0.02636085]\n",
      " [ 0.05015049 -0.02236306 -0.01045727 ...  0.08497969  0.01953029\n",
      "  -0.03249303]]\n",
      "\n",
      "Singular Values:\n",
      "[[3.69020079e+04 0.00000000e+00 0.00000000e+00 ... 0.00000000e+00\n",
      "  0.00000000e+00 0.00000000e+00]\n",
      " [0.00000000e+00 1.44331138e+03 0.00000000e+00 ... 0.00000000e+00\n",
      "  0.00000000e+00 0.00000000e+00]\n",
      " [0.00000000e+00 0.00000000e+00 1.16571499e+03 ... 0.00000000e+00\n",
      "  0.00000000e+00 0.00000000e+00]\n",
      " ...\n",
      " [0.00000000e+00 0.00000000e+00 0.00000000e+00 ... 2.78995561e+00\n",
      "  0.00000000e+00 0.00000000e+00]\n",
      " [0.00000000e+00 0.00000000e+00 0.00000000e+00 ... 0.00000000e+00\n",
      "  2.60355087e+00 0.00000000e+00]\n",
      " [0.00000000e+00 0.00000000e+00 0.00000000e+00 ... 0.00000000e+00\n",
      "  0.00000000e+00 2.47472429e+00]]\n",
      "\n",
      "Right Singular Vectors:\n",
      "[[ 0.12488474  0.12527301  0.12484396 ... -0.00068814 -0.00088717\n",
      "  -0.00094072]\n",
      " [-0.01069986  0.0114923  -0.01121644 ... -0.00101471 -0.00171532\n",
      "  -0.00297149]\n",
      " [ 0.03749635  0.04234823  0.00425611 ... -0.00041238 -0.00039126\n",
      "   0.00198301]\n",
      " ...\n",
      " [ 0.00945677  0.00742224 -0.01124168 ... -0.1011224   0.01811635\n",
      "   0.0546814 ]\n",
      " [ 0.00380494 -0.01179094 -0.0007549  ... -0.01450329 -0.05550227\n",
      "  -0.00605361]\n",
      " [ 0.00188574 -0.01185306 -0.00748942 ... -0.04824891 -0.05238642\n",
      "  -0.00741693]]\n"
     ]
    },
    {
     "data": {
      "text/plain": [
       "2"
      ]
     },
     "execution_count": 6,
     "metadata": {},
     "output_type": "execute_result"
    }
   ],
   "source": [
    "ottieniKSemanticheLatenti('ColorMoments', 'cc', 30, 'SVD', 'X')"
   ]
  },
  {
   "cell_type": "code",
   "execution_count": 7,
   "metadata": {},
   "outputs": [
    {
     "name": "stdout",
     "output_type": "stream",
     "text": [
      "Numero di file su cui applichiamo i metodi:  108\n",
      "SONO IN COLOR MOMENTS\n",
      "Lunghezza di un descrittore:  192\n",
      "Numero di oggetti:  108\n",
      "SONO IN SVD\n",
      "\n",
      "Numero righe di U:  108\n",
      "\n",
      "Numero colonne di U:  108\n",
      "\n",
      "Numero righe di S:  108\n",
      "\n",
      "Numero colonne di S:  108\n",
      "\n",
      "Numero righe di VT:  108\n",
      "\n",
      "Numero colonne di VT:  192\n",
      "\n",
      "Left Singular Vectors:\n",
      "[[ 7.83495847e-04  1.73664833e-04  9.60734988e-04 ... -0.00000000e+00\n",
      "  -0.00000000e+00 -0.00000000e+00]\n",
      " [ 7.73925813e-04 -9.14792397e-06  1.49626978e-03 ... -5.97146480e-17\n",
      "   3.61113507e-17  2.22680921e-16]\n",
      " [ 7.82386778e-04  1.81982520e-04  1.09660509e-03 ... -9.37415278e-17\n",
      "  -6.67546351e-18 -9.18887061e-18]\n",
      " ...\n",
      " [ 7.50072436e-04 -1.26638124e-04 -1.00174397e-03 ... -1.21743111e-16\n",
      "  -3.55207264e-18  6.76522100e-17]\n",
      " [ 6.78150509e-04  3.62152945e-04 -2.07954869e-03 ...  2.68281066e-18\n",
      "  -4.19483617e-17 -8.18974188e-17]\n",
      " [ 7.20113971e-04  9.45782866e-05 -1.17006642e-03 ...  1.29866339e-16\n",
      "   1.08805323e-16 -3.19613954e-17]]\n",
      "\n",
      "Singular Values:\n",
      "[[2.39223055e+06 0.00000000e+00 0.00000000e+00 ... 0.00000000e+00\n",
      "  0.00000000e+00 0.00000000e+00]\n",
      " [0.00000000e+00 3.17553326e+05 0.00000000e+00 ... 0.00000000e+00\n",
      "  0.00000000e+00 0.00000000e+00]\n",
      " [0.00000000e+00 0.00000000e+00 1.74763595e+05 ... 0.00000000e+00\n",
      "  0.00000000e+00 0.00000000e+00]\n",
      " ...\n",
      " [0.00000000e+00 0.00000000e+00 0.00000000e+00 ... 2.36400250e-10\n",
      "  0.00000000e+00 0.00000000e+00]\n",
      " [0.00000000e+00 0.00000000e+00 0.00000000e+00 ... 0.00000000e+00\n",
      "  2.36400250e-10 0.00000000e+00]\n",
      " [0.00000000e+00 0.00000000e+00 0.00000000e+00 ... 0.00000000e+00\n",
      "  0.00000000e+00 2.36400250e-10]]\n",
      "\n",
      "Right Singular Vectors:\n",
      "[[ 9.88506279e-02  1.27292370e-01  1.37547208e-01 ... -1.81100461e-06\n",
      "   6.63360408e-07  1.50160818e-06]\n",
      " [-1.16399370e-01 -4.32331099e-02 -2.41569400e-02 ...  5.39790180e-06\n",
      "  -5.60957622e-06  1.43219345e-06]\n",
      " [ 8.01535053e-02  3.72755290e-02 -6.58984246e-03 ...  1.04792742e-05\n",
      "   1.88187871e-05 -1.95601433e-06]\n",
      " ...\n",
      " [ 8.41045267e-02 -8.15978317e-02 -8.81566933e-02 ...  1.12218898e-01\n",
      "  -3.71511981e-02  3.62813123e-02]\n",
      " [ 1.32000835e-01  3.10728354e-02 -7.39254322e-02 ... -7.52311500e-02\n",
      "  -3.01008165e-02 -4.90546168e-02]\n",
      " [ 1.34314103e-01 -2.57425987e-01  7.76420373e-02 ...  1.89975749e-02\n",
      "  -5.55809946e-02 -1.41361561e-02]]\n"
     ]
    },
    {
     "data": {
      "text/plain": [
       "2"
      ]
     },
     "execution_count": 7,
     "metadata": {},
     "output_type": "execute_result"
    }
   ],
   "source": [
    "ottieniKSemanticheLatenti('ColorMoments', '1', 30, 'SVD', 'Y')"
   ]
  },
  {
   "cell_type": "markdown",
   "metadata": {},
   "source": [
    "# Implementazione LDA\n",
    "\n",
    "> **Nota bene:** Con LDA possiamo non utilizzare ColorMoments\n",
    "\n",
    "Link articolo utie: https://pages.cs.wisc.edu/~pradheep/Clust-LDA.pdf\n",
    "\n",
    "https://scikit-learn.org/stable/modules/generated/sklearn.decomposition.LatentDirichletAllocation.html\n",
    "\n",
    "https://machinelearninggeek.com/latent-dirichlet-allocation-using-scikit-learn/\n",
    "\n",
    "https://machinelearningmastery.com/linear-discriminant-analysis-for-dimensionality-reduction-in-python/\n",
    "\n",
    "https://scikit-learn.org/0.16/modules/generated/sklearn.lda.LDA.html"
   ]
  },
  {
   "cell_type": "code",
   "execution_count": 8,
   "metadata": {},
   "outputs": [
    {
     "name": "stdout",
     "output_type": "stream",
     "text": [
      "Numero di file su cui applichiamo i metodi:  399\n",
      "HOG\n",
      "Lunghezza di un descrittore:  3780\n",
      "Numero di oggetti:  399\n",
      "SONO IN LDA\n",
      "[[5.34649138e-06 5.34649138e-06 5.34649138e-06 ... 5.34649138e-06\n",
      "  5.34649138e-06 5.34649138e-06]\n",
      " [5.33642633e-06 5.33642633e-06 5.33642633e-06 ... 5.33642633e-06\n",
      "  5.33642633e-06 5.33642633e-06]\n",
      " [5.47517063e-06 5.47517063e-06 5.47517063e-06 ... 5.47517063e-06\n",
      "  5.47517063e-06 5.47517063e-06]\n",
      " ...\n",
      " [5.23115699e-06 5.23115699e-06 5.23115699e-06 ... 5.23115699e-06\n",
      "  5.23115699e-06 5.23115699e-06]\n",
      " [5.17302209e-06 5.17302209e-06 5.17302209e-06 ... 5.17302209e-06\n",
      "  5.17302209e-06 5.17302209e-06]\n",
      " [5.12765537e-06 5.12765537e-06 5.12765537e-06 ... 5.12765537e-06\n",
      "  5.12765537e-06 5.12765537e-06]]\n",
      "LUNGHEZZA RESULT\n",
      "righe:  399\n",
      "colonne:  399\n",
      "FINISCO LDA\n",
      "FINISCO SCRITTURA SU FILE\n"
     ]
    },
    {
     "data": {
      "text/plain": [
       "3"
      ]
     },
     "execution_count": 8,
     "metadata": {},
     "output_type": "execute_result"
    }
   ],
   "source": [
    "ottieniKSemanticheLatenti('HOG', 'cc', 3, 'LDA', 'X')"
   ]
  },
  {
   "cell_type": "code",
   "execution_count": 11,
   "metadata": {},
   "outputs": [
    {
     "name": "stdout",
     "output_type": "stream",
     "text": [
      "Numero di file su cui applichiamo i metodi:  108\n",
      "HOG\n",
      "Lunghezza di un descrittore:  3780\n",
      "Numero di oggetti:  108\n",
      "SONO IN LDA\n",
      "[[1.97523154e-05 1.97523154e-05 1.97523154e-05 ... 4.62786519e-01\n",
      "  1.97523154e-05 1.97523154e-05]\n",
      " [1.97151306e-05 1.97151306e-05 1.97151306e-05 ... 4.02492398e-01\n",
      "  1.97151306e-05 1.97151306e-05]\n",
      " [2.02277137e-05 2.02277137e-05 2.02277137e-05 ... 5.28336195e-01\n",
      "  2.02277137e-05 2.02277137e-05]\n",
      " ...\n",
      " [2.34815672e-05 2.34815672e-05 2.34815672e-05 ... 5.28926413e-01\n",
      "  2.34815672e-05 2.34815672e-05]\n",
      " [2.24176781e-05 2.24176781e-05 2.24176781e-05 ... 4.45851562e-01\n",
      "  2.24176781e-05 2.24176781e-05]\n",
      " [2.28485694e-05 2.28485694e-05 2.28485694e-05 ... 4.55410783e-01\n",
      "  2.28485694e-05 2.28485694e-05]]\n",
      "LUNGHEZZA RESULT\n",
      "righe:  108\n",
      "colonne:  108\n",
      "FINISCO LDA\n",
      "FINISCO SCRITTURA SU FILE\n"
     ]
    },
    {
     "data": {
      "text/plain": [
       "3"
      ]
     },
     "execution_count": 11,
     "metadata": {},
     "output_type": "execute_result"
    }
   ],
   "source": [
    "ottieniKSemanticheLatenti('HOG', '1', 3, 'LDA', 'Y')"
   ]
  },
  {
   "cell_type": "code",
   "execution_count": null,
   "metadata": {},
   "outputs": [],
   "source": []
  },
  {
   "cell_type": "markdown",
   "metadata": {},
   "source": [
    "# Domande\n",
    "\n",
    "> **Domanda 1:** \"ciasuna feature latente deve essere espressa come una sequenza di coppie soggetto-peso\". Cosa intendiamo con \"peso\"? Il contriuto che quella feature latente dà a quel soggetto? (Quindi dobbiamo leggere la maatrice U che descrive gli oggetti rispetto alle feature latenti). Oppure si intende il peso associato alla feature latente per poter ricostruire il db di partenza?"
   ]
  },
  {
   "cell_type": "markdown",
   "metadata": {},
   "source": [
    "# Task 8\n",
    "\n",
    "Algoritmo page-rank: https://www.geeksforgeeks.org/page-rank-algorithm-implementation/\n",
    "\n",
    "Costruire un grafo - *GUARDARE QUESTO*: https://networkx.org/documentation/stable/tutorial.html\n",
    "\n",
    "https://www.meccanismocomplesso.org/programming-graphs-in-python-part-1-grafi/"
   ]
  },
  {
   "cell_type": "code",
   "execution_count": null,
   "metadata": {},
   "outputs": [],
   "source": []
  },
  {
   "cell_type": "markdown",
   "metadata": {},
   "source": []
  }
 ],
 "metadata": {
  "interpreter": {
   "hash": "aee8b7b246df8f9039afb4144a1f6fd8d2ca17a180786b69acc140d282b71a49"
  },
  "kernelspec": {
   "display_name": "Python 3.10.4 64-bit",
   "language": "python",
   "name": "python3"
  },
  "language_info": {
   "codemirror_mode": {
    "name": "ipython",
    "version": 3
   },
   "file_extension": ".py",
   "mimetype": "text/x-python",
   "name": "python",
   "nbconvert_exporter": "python",
   "pygments_lexer": "ipython3",
   "version": "3.10.4"
  },
  "orig_nbformat": 4
 },
 "nbformat": 4,
 "nbformat_minor": 2
}

{
 "cells": [
  {
   "cell_type": "code",
   "execution_count": null,
   "metadata": {},
   "outputs": [],
   "source": [
    "from ipynb.fs.full.functions_secondaparte import *\n",
    "import numpy as np\n",
    "from operator import itemgetter\n",
    "\n",
    "from PIL import Image\n",
    "from numpy import asarray\n",
    "from scipy.stats import skew\n",
    "\n",
    "# load and display an image with Matplotlib\n",
    "from matplotlib import image\n",
    "from matplotlib import pyplot\n",
    "import matplotlib.pyplot as plt\n",
    "import json\n"
   ]
  },
  {
   "cell_type": "markdown",
   "metadata": {},
   "source": [
    "# Task 3\n",
    "Implementare un programma che, dati (a) uno dei tre modelli di feature, (b) un valore “k” specificato dall’utente\n",
    "- crei (e salvi) una matrice di similarita’ tipo-tipo,\n",
    "- applichi una riduzione della dimensionalita’ secondo un metodo scelto dall’utente (PCA, SVD, LDA) su questa matrice di similarita’ tipo-tipo\n",
    "- restituisca le top-k lsemantiche latent,\n",
    "\n",
    "> **Nota bene:** Ciascuna semantica latente deve essere presentata sotto forma di sequenza di coppie tipo- peso, ordinate in modo decrescente rispetto ai pesi.\n",
    "Salvate le semantiche latenti in un file di output opportunamente etichettato (ossia, con nome informativo).\n",
    "\n",
    "> **Osservazioni sul risultato:**  Le semantiche latenti ottenute applicando la decomposizione su una matrice di similarità tipo-tipo e ordinate per coppie tipo-peso risultano essere molto diverse in quanto, CREDIAMO, che ciò sia causato dal cambiamento del soggetto considerato.\n"
   ]
  },
  {
   "cell_type": "code",
   "execution_count": null,
   "metadata": {},
   "outputs": [],
   "source": [
    "ottieniKSemanticheLatentiTask34('HOG', 'tipo', 3, 'SVD')"
   ]
  },
  {
   "cell_type": "code",
   "execution_count": null,
   "metadata": {},
   "outputs": [],
   "source": [
    "ottieniKSemanticheLatentiTask34('HOG', 'tipo', 3, 'PCA')"
   ]
  },
  {
   "cell_type": "markdown",
   "metadata": {},
   "source": [
    "# Task 4\n",
    "\n",
    "Implementare un programma che, dati (a) uno dei tre modelli di feature, (b) un valore “k” specificato dall’utente\n",
    "- crei (e salvi) una matrice di similarita’ soggetto-soggetto,\n",
    "- applichi una riduzione della dimensionalita’ secondo un metodo scelto dall’utente (PCA, SVD, LDA) su questa matrice di similarita’ soggetto-soggetto\n",
    "- restituisca le top-k lsemantiche latent,\n",
    "\n",
    "> **Nota bene:**  Ciascuna semantica latente deve essere presentata sotto forma di sequenza di coppie soggetto-peso, ordinate in modo decrescente rispetto ai pesi.\n",
    "Salvate le semantiche latenti in un file di output opportunamente etichettato (ossia, con nome informativo).\n",
    "\n",
    "> **Osservazioni sul risultato:**  Le semantiche latenti ottenute applicando la decomposizione su una matrice di similarità soggetto-soggetto  e ordinate per coppie soggetto-peso risultano essere molto simili in quanto, CREDIAMO, per ogni tipo diverso dell'immagine dello stesso soggetto. "
   ]
  },
  {
   "cell_type": "code",
   "execution_count": null,
   "metadata": {},
   "outputs": [],
   "source": [
    "ottieniKSemanticheLatentiTask34('HOG', 'soggetto', 3, 'SVD')"
   ]
  },
  {
   "cell_type": "code",
   "execution_count": null,
   "metadata": {},
   "outputs": [],
   "source": [
    "ottieniKSemanticheLatentiTask34('HOG', 'soggetto', 3, 'PCA')"
   ]
  },
  {
   "cell_type": "code",
   "execution_count": null,
   "metadata": {},
   "outputs": [],
   "source": [
    "ottieniKSemanticheLatentiTask34('ColorMoments', 'soggetto', 3, 'SVD')"
   ]
  },
  {
   "cell_type": "code",
   "execution_count": null,
   "metadata": {},
   "outputs": [],
   "source": [
    "ottieniKSemanticheLatentiTask34('LBP', 'soggetto', 3, 'SVD')"
   ]
  },
  {
   "cell_type": "code",
   "execution_count": null,
   "metadata": {},
   "outputs": [],
   "source": []
  }
 ],
 "metadata": {
  "interpreter": {
   "hash": "aee8b7b246df8f9039afb4144a1f6fd8d2ca17a180786b69acc140d282b71a49"
  },
  "kernelspec": {
   "display_name": "Python 3.10.4 64-bit",
   "language": "python",
   "name": "python3"
  },
  "language_info": {
   "codemirror_mode": {
    "name": "ipython",
    "version": 3
   },
   "file_extension": ".py",
   "mimetype": "text/x-python",
   "name": "python",
   "nbconvert_exporter": "python",
   "pygments_lexer": "ipython3",
   "version": "3.10.4"
  },
  "orig_nbformat": 4
 },
 "nbformat": 4,
 "nbformat_minor": 2
}

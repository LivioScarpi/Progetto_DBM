{
 "cells": [
  {
   "cell_type": "markdown",
   "metadata": {},
   "source": [
    "# Task 5\n",
    "Scrivere un programma che , dato il nome del file contenente un’immagine query che potrebbe non essere presente nel database e un file di semantiche latenti, identifichi e visualizzi le n immagini piu’ simili rispetto alle semantiche latenti descritte nel file dato.\n"
   ]
  },
  {
   "cell_type": "markdown",
   "metadata": {},
   "source": [
    "### Come pensiamo di fare?\n",
    "\n",
    "Se usiamo un file con feature latenti formate da coppie tipo-peso quello che conviene fare è considerare il tipo dell'immagine di query e quindi "
   ]
  },
  {
   "cell_type": "code",
   "execution_count": 2,
   "metadata": {},
   "outputs": [],
   "source": [
    "from ipynb.fs.full.functions_secondaparte import *\n",
    "import numpy as np"
   ]
  },
  {
   "cell_type": "code",
   "execution_count": 3,
   "metadata": {},
   "outputs": [
    {
     "name": "stdout",
     "output_type": "stream",
     "text": [
      "[[255 255 255 ... 255 255 255]\n",
      " [255 255 255 ... 229 228 228]\n",
      " [255 255 255 ... 246 239 240]\n",
      " ...\n",
      " [255 253 232 ... 255 255 255]\n",
      " [255 255 239 ... 255 255 255]\n",
      " [255 246 252 ... 242 242 242]]\n"
     ]
    }
   ],
   "source": [
    "directory = './outputfilesecondaparte/'\n",
    "getNsimilarImages('image-cc-1-2.png', directory + 'HOG_PCA_coppie_soggetto-peso-task4.txt')"
   ]
  },
  {
   "cell_type": "code",
   "execution_count": null,
   "metadata": {},
   "outputs": [],
   "source": []
  }
 ],
 "metadata": {
  "interpreter": {
   "hash": "aee8b7b246df8f9039afb4144a1f6fd8d2ca17a180786b69acc140d282b71a49"
  },
  "kernelspec": {
   "display_name": "Python 3.10.4 64-bit",
   "language": "python",
   "name": "python3"
  },
  "language_info": {
   "codemirror_mode": {
    "name": "ipython",
    "version": 3
   },
   "file_extension": ".py",
   "mimetype": "text/x-python",
   "name": "python",
   "nbconvert_exporter": "python",
   "pygments_lexer": "ipython3",
   "version": "3.10.4"
  },
  "orig_nbformat": 4
 },
 "nbformat": 4,
 "nbformat_minor": 2
}

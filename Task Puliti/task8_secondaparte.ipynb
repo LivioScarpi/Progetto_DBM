{
 "cells": [
  {
   "cell_type": "markdown",
   "metadata": {},
   "source": [
    "# Task 8\n",
    "Scrivere un programma che (a) data una matrice di similarta’subject-subject, (b) un valore n, e (c) un valore m,\n",
    "\n",
    "- crei un grafo di similarta’, G(V, E), in cui V corresponde all’insieme dei soggetti nel database ed E contiene le coppie di vertici vi, vj per cui vale che , vj e’ uno degli n soggetti piu simili a vi nel database\n",
    "- identifichi gli m soggetti piu’ significativi nella collezione (utilizzando l’algoritmo di page- rank) .\n"
   ]
  },
  {
   "cell_type": "code",
   "execution_count": null,
   "metadata": {},
   "outputs": [],
   "source": []
  }
 ],
 "metadata": {
  "language_info": {
   "name": "python"
  },
  "orig_nbformat": 4
 },
 "nbformat": 4,
 "nbformat_minor": 2
}

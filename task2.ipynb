{
 "cells": [
  {
   "cell_type": "code",
   "execution_count": 3,
   "metadata": {},
   "outputs": [
    {
     "name": "stdout",
     "output_type": "stream",
     "text": [
      "Files and directories in ' ./olivetti_PNG_master/images/ ' :\n",
      "['image-0.png', 'image-1.png', 'image-10.png', 'image-100.png', 'image-101.png', 'image-102.png', 'image-103.png', 'image-104.png', 'image-105.png', 'image-106.png', 'image-107.png', 'image-108.png', 'image-109.png', 'image-11.png', 'image-110.png', 'image-111.png', 'image-112.png', 'image-113.png', 'image-114.png', 'image-115.png', 'image-116.png', 'image-117.png', 'image-118.png', 'image-119.png', 'image-12.png', 'image-120.png', 'image-121.png', 'image-122.png', 'image-123.png', 'image-124.png', 'image-125.png', 'image-126.png', 'image-127.png', 'image-128.png', 'image-129.png', 'image-13.png', 'image-130.png', 'image-131.png', 'image-132.png', 'image-133.png', 'image-134.png', 'image-135.png', 'image-136.png', 'image-137.png', 'image-138.png', 'image-139.png', 'image-14.png', 'image-140.png', 'image-141.png', 'image-142.png', 'image-143.png', 'image-144.png', 'image-145.png', 'image-146.png', 'image-147.png', 'image-148.png', 'image-149.png', 'image-15.png', 'image-150.png', 'image-151.png', 'image-152.png', 'image-153.png', 'image-154.png', 'image-155.png', 'image-156.png', 'image-157.png', 'image-158.png', 'image-159.png', 'image-16.png', 'image-160.png', 'image-161.png', 'image-162.png', 'image-163.png', 'image-164.png', 'image-165.png', 'image-166.png', 'image-167.png', 'image-168.png', 'image-169.png', 'image-17.png', 'image-170.png', 'image-171.png', 'image-172.png', 'image-173.png', 'image-174.png', 'image-175.png', 'image-176.png', 'image-177.png', 'image-178.png', 'image-179.png', 'image-18.png', 'image-180.png', 'image-181.png', 'image-182.png', 'image-183.png', 'image-184.png', 'image-185.png', 'image-186.png', 'image-187.png', 'image-188.png', 'image-189.png', 'image-19.png', 'image-190.png', 'image-191.png', 'image-192.png', 'image-193.png', 'image-194.png', 'image-195.png', 'image-196.png', 'image-197.png', 'image-198.png', 'image-199.png', 'image-2.png', 'image-20.png', 'image-200.png', 'image-201.png', 'image-202.png', 'image-203.png', 'image-204.png', 'image-205.png', 'image-206.png', 'image-207.png', 'image-208.png', 'image-209.png', 'image-21.png', 'image-210.png', 'image-211.png', 'image-212.png', 'image-213.png', 'image-214.png', 'image-215.png', 'image-216.png', 'image-217.png', 'image-218.png', 'image-219.png', 'image-22.png', 'image-220.png', 'image-221.png', 'image-222.png', 'image-223.png', 'image-224.png', 'image-225.png', 'image-226.png', 'image-227.png', 'image-228.png', 'image-229.png', 'image-23.png', 'image-230.png', 'image-231.png', 'image-232.png', 'image-233.png', 'image-234.png', 'image-235.png', 'image-236.png', 'image-237.png', 'image-238.png', 'image-239.png', 'image-24.png', 'image-240.png', 'image-241.png', 'image-242.png', 'image-243.png', 'image-244.png', 'image-245.png', 'image-246.png', 'image-247.png', 'image-248.png', 'image-249.png', 'image-25.png', 'image-250.png', 'image-251.png', 'image-252.png', 'image-253.png', 'image-254.png', 'image-255.png', 'image-256.png', 'image-257.png', 'image-258.png', 'image-259.png', 'image-26.png', 'image-260.png', 'image-261.png', 'image-262.png', 'image-263.png', 'image-264.png', 'image-265.png', 'image-266.png', 'image-267.png', 'image-268.png', 'image-269.png', 'image-27.png', 'image-270.png', 'image-271.png', 'image-272.png', 'image-273.png', 'image-274.png', 'image-275.png', 'image-276.png', 'image-277.png', 'image-278.png', 'image-279.png', 'image-28.png', 'image-280.png', 'image-281.png', 'image-282.png', 'image-283.png', 'image-284.png', 'image-285.png', 'image-286.png', 'image-287.png', 'image-288.png', 'image-289.png', 'image-29.png', 'image-290.png', 'image-291.png', 'image-292.png', 'image-293.png', 'image-294.png', 'image-295.png', 'image-296.png', 'image-297.png', 'image-298.png', 'image-299.png', 'image-3.png', 'image-30.png', 'image-300.png', 'image-301.png', 'image-302.png', 'image-303.png', 'image-304.png', 'image-305.png', 'image-306.png', 'image-307.png', 'image-308.png', 'image-309.png', 'image-31.png', 'image-310.png', 'image-311.png', 'image-312.png', 'image-313.png', 'image-314.png', 'image-315.png', 'image-316.png', 'image-317.png', 'image-318.png', 'image-319.png', 'image-32.png', 'image-320.png', 'image-321.png', 'image-322.png', 'image-323.png', 'image-324.png', 'image-325.png', 'image-326.png', 'image-327.png', 'image-328.png', 'image-329.png', 'image-33.png', 'image-330.png', 'image-331.png', 'image-332.png', 'image-333.png', 'image-334.png', 'image-335.png', 'image-336.png', 'image-337.png', 'image-338.png', 'image-339.png', 'image-34.png', 'image-340.png', 'image-341.png', 'image-342.png', 'image-343.png', 'image-344.png', 'image-345.png', 'image-346.png', 'image-347.png', 'image-348.png', 'image-349.png', 'image-35.png', 'image-350.png', 'image-351.png', 'image-352.png', 'image-353.png', 'image-354.png', 'image-355.png', 'image-356.png', 'image-357.png', 'image-358.png', 'image-359.png', 'image-36.png', 'image-360.png', 'image-361.png', 'image-362.png', 'image-363.png', 'image-364.png', 'image-365.png', 'image-366.png', 'image-367.png', 'image-368.png', 'image-369.png', 'image-37.png', 'image-370.png', 'image-371.png', 'image-372.png', 'image-373.png', 'image-374.png', 'image-375.png', 'image-376.png', 'image-377.png', 'image-378.png', 'image-379.png', 'image-38.png', 'image-380.png', 'image-381.png', 'image-382.png', 'image-383.png', 'image-384.png', 'image-385.png', 'image-386.png', 'image-387.png', 'image-388.png', 'image-389.png', 'image-39.png', 'image-390.png', 'image-391.png', 'image-392.png', 'image-393.png', 'image-394.png', 'image-395.png', 'image-396.png', 'image-397.png', 'image-398.png', 'image-399.png', 'image-4.png', 'image-40.png', 'image-41.png', 'image-42.png', 'image-43.png', 'image-44.png', 'image-45.png', 'image-46.png', 'image-47.png', 'image-48.png', 'image-49.png', 'image-5.png', 'image-50.png', 'image-51.png', 'image-52.png', 'image-53.png', 'image-54.png', 'image-55.png', 'image-56.png', 'image-57.png', 'image-58.png', 'image-59.png', 'image-6.png', 'image-60.png', 'image-61.png', 'image-62.png', 'image-63.png', 'image-64.png', 'image-65.png', 'image-66.png', 'image-67.png', 'image-68.png', 'image-69.png', 'image-7.png', 'image-70.png', 'image-71.png', 'image-72.png', 'image-73.png', 'image-74.png', 'image-75.png', 'image-76.png', 'image-77.png', 'image-78.png', 'image-79.png', 'image-8.png', 'image-80.png', 'image-81.png', 'image-82.png', 'image-83.png', 'image-84.png', 'image-85.png', 'image-86.png', 'image-87.png', 'image-88.png', 'image-89.png', 'image-9.png', 'image-90.png', 'image-91.png', 'image-92.png', 'image-93.png', 'image-94.png', 'image-95.png', 'image-96.png', 'image-97.png', 'image-98.png', 'image-99.png']\n"
     ]
    }
   ],
   "source": [
    "# import OS module\n",
    "import os\n",
    "\n",
    "# Get the list of all files and directories\n",
    "path = \"./olivetti_PNG_master/images/\"\n",
    "dir_list = os.listdir(path)\n",
    " \n",
    "print(\"Files and directories in '\", path, \"' :\")\n",
    " \n",
    "dir_list.sort()\n",
    "dir_list.remove('.DS_Store')\n",
    "\n",
    "# prints all files\n",
    "print(dir_list)\n"
   ]
  },
  {
   "cell_type": "code",
   "execution_count": null,
   "metadata": {},
   "outputs": [],
   "source": []
  }
 ],
 "metadata": {
  "interpreter": {
   "hash": "aee8b7b246df8f9039afb4144a1f6fd8d2ca17a180786b69acc140d282b71a49"
  },
  "kernelspec": {
   "display_name": "Python 3.10.4 64-bit",
   "language": "python",
   "name": "python3"
  },
  "language_info": {
   "codemirror_mode": {
    "name": "ipython",
    "version": 3
   },
   "file_extension": ".py",
   "mimetype": "text/x-python",
   "name": "python",
   "nbconvert_exporter": "python",
   "pygments_lexer": "ipython3",
   "version": "3.10.4"
  },
  "orig_nbformat": 4
 },
 "nbformat": 4,
 "nbformat_minor": 2
}

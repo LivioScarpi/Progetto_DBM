{
 "cells": [
  {
   "cell_type": "code",
   "execution_count": 1,
   "metadata": {},
   "outputs": [
    {
     "name": "stdout",
     "output_type": "stream",
     "text": [
      "dist01:  9.0\n",
      "dist02:  5.196152422706632\n"
     ]
    }
   ],
   "source": [
    "\n",
    "import numpy as np\n",
    "\n",
    "arr0 = [0, 0, 0]\n",
    "numpyArr0 = np.array(arr0)\n",
    "\n",
    "arr1 = [9, 0, 0]\n",
    "numpyArr1 = np.array(arr1)\n",
    "\n",
    "arr2 = [3, 3, 3]\n",
    "numpyArr2 = np.array(arr2)\n",
    "\n",
    "dist01 = np.linalg.norm(numpyArr0 - numpyArr1)\n",
    "dist02 = np.linalg.norm(numpyArr0 - numpyArr2)\n",
    "\n",
    "\n",
    "print(\"dist01: \", dist01)\n",
    "print(\"dist02: \", dist02)"
   ]
  },
  {
   "cell_type": "code",
   "execution_count": null,
   "metadata": {},
   "outputs": [],
   "source": []
  }
 ],
 "metadata": {
  "interpreter": {
   "hash": "aee8b7b246df8f9039afb4144a1f6fd8d2ca17a180786b69acc140d282b71a49"
  },
  "kernelspec": {
   "display_name": "Python 3.10.4 64-bit",
   "language": "python",
   "name": "python3"
  },
  "language_info": {
   "codemirror_mode": {
    "name": "ipython",
    "version": 3
   },
   "file_extension": ".py",
   "mimetype": "text/x-python",
   "name": "python",
   "nbconvert_exporter": "python",
   "pygments_lexer": "ipython3",
   "version": "3.10.4"
  },
  "orig_nbformat": 4
 },
 "nbformat": 4,
 "nbformat_minor": 2
}

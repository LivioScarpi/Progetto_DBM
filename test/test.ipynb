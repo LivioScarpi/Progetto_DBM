{
 "cells": [
  {
   "cell_type": "code",
   "execution_count": 1,
   "metadata": {},
   "outputs": [],
   "source": [
    "import numpy as np"
   ]
  },
  {
   "cell_type": "code",
   "execution_count": 4,
   "metadata": {},
   "outputs": [
    {
     "data": {
      "text/plain": [
       "array([24.74647059,  7.81117647, 34.64823529])"
      ]
     },
     "execution_count": 4,
     "metadata": {},
     "output_type": "execute_result"
    }
   ],
   "source": [
    "matrix = [[ 27.13,   7.77,  34.39],\n",
    "       [ 27.99,   7.76,  34.93],\n",
    "       [ 27.16,   6.96,  33.79],\n",
    "       [ 27.17,   8.58,  33.79],\n",
    "       [ 25.94,   7.78,  35.25],\n",
    "       [ 25.98,   9.09,  36.02],\n",
    "       [ 26.74,  10.1 ,  35.32],\n",
    "       [ 26.75,  10.94,  35.86],\n",
    "       [ 24.64,   7.79,  34.46],\n",
    "       [ 24.53,   8.51,  33.5 ],\n",
    "       [ 23.59,   7.07,  34.76],\n",
    "       [ 23.59,   6.55,  35.61],\n",
    "       [ 22.42,   7.01,  33.9 ],\n",
    "       [ 21.62,   5.76,  34.27],\n",
    "       [ 22.48,   4.21,  33.97],\n",
    "       [ 21.59,   8.22,  34.04],\n",
    "       [ 21.37,   8.69,  35.16]]\n",
    "\n",
    "npMatrix = np.array(matrix)\n",
    "\n",
    "np.mean(npMatrix, axis=0)"
   ]
  },
  {
   "cell_type": "code",
   "execution_count": null,
   "metadata": {},
   "outputs": [],
   "source": []
  }
 ],
 "metadata": {
  "interpreter": {
   "hash": "aee8b7b246df8f9039afb4144a1f6fd8d2ca17a180786b69acc140d282b71a49"
  },
  "kernelspec": {
   "display_name": "Python 3.10.4 64-bit",
   "language": "python",
   "name": "python3"
  },
  "language_info": {
   "codemirror_mode": {
    "name": "ipython",
    "version": 3
   },
   "file_extension": ".py",
   "mimetype": "text/x-python",
   "name": "python",
   "nbconvert_exporter": "python",
   "pygments_lexer": "ipython3",
   "version": "3.10.4"
  },
  "orig_nbformat": 4
 },
 "nbformat": 4,
 "nbformat_minor": 2
}
